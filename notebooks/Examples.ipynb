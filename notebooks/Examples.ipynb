{
 "cells": [
  {
   "cell_type": "markdown",
   "metadata": {},
   "source": [
    "# Example copied and lightly adapted from https://github.com/adebayoj/fairml/blob/master/example.py"
   ]
  },
  {
   "cell_type": "code",
   "execution_count": null,
   "metadata": {
    "collapsed": false
   },
   "outputs": [],
   "source": [
    "import matplotlib\n",
    "\n",
    "# temporary work around down to virtualenv\n",
    "# matplotlib issue.\n",
    "matplotlib.use('Agg')\n",
    "import numpy as np\n",
    "import matplotlib.pyplot as plt\n",
    "import seaborn as sns\n",
    "\n",
    "import pandas as pd\n",
    "from sklearn.linear_model import LogisticRegression\n",
    "\n",
    "# import specific projection format.\n",
    "from fairml import audit_model\n",
    "from fairml import plot_dependencies\n",
    "\n",
    "plt.style.use('ggplot')\n",
    "plt.figure(figsize=(6, 6))\n",
    "\n",
    "# read in propublica data\n",
    "propublica_data = pd.read_csv(\"../doc/example_notebooks/\"\n",
    "                              \"propublica_data_for_fairml.csv\")\n",
    "\n",
    "# quick data processing\n",
    "compas_rating = propublica_data.score_factor.values\n",
    "propublica_data = propublica_data.drop(\"score_factor\", 1)\n",
    "\n",
    "#  quick setup of Logistic regression\n",
    "#  perhaps use a more crazy classifier\n",
    "clf = LogisticRegression(penalty='l2', C=0.01)\n",
    "clf.fit(propublica_data.values, compas_rating)\n",
    "\n",
    "#  call audit model\n",
    "importancies, _ = audit_model(clf.predict, propublica_data)\n",
    "\n",
    "# print feature importance\n",
    "print(importancies)\n",
    "\n",
    "# generate feature dependence plot\n",
    "fig = plot_dependencies(\n",
    "    importancies.median(),\n",
    "    reverse_values=False,\n",
    "    title=\"FairML feature dependence logistic regression model\"\n",
    ")\n",
    "\n",
    "file_name = \"fairml_propublica_linear_direct.png\"\n",
    "plt.savefig(file_name, transparent=False, bbox_inches='tight', dpi=250)"
   ]
  },
  {
   "cell_type": "markdown",
   "metadata": {},
   "source": [
    "# non-linear example\n",
    "https://github.com/adebayoj/fairml/blob/master/example_non_linear_models.py\n",
    "\n",
    "**Warning:  the following will not likely yield an immediate answer.**"
   ]
  },
  {
   "cell_type": "code",
   "execution_count": null,
   "metadata": {
    "collapsed": false
   },
   "outputs": [],
   "source": [
    "%cd ..\n",
    "%run example_non_linear_models.py"
   ]
  },
  {
   "cell_type": "code",
   "execution_count": null,
   "metadata": {
    "collapsed": true
   },
   "outputs": [],
   "source": []
  }
 ],
 "metadata": {
  "kernelspec": {
   "display_name": "Python 3",
   "language": "python",
   "name": "python3"
  },
  "language_info": {
   "codemirror_mode": {
    "name": "ipython",
    "version": 3
   },
   "file_extension": ".py",
   "mimetype": "text/x-python",
   "name": "python",
   "nbconvert_exporter": "python",
   "pygments_lexer": "ipython3",
   "version": "3.6.0"
  }
 },
 "nbformat": 4,
 "nbformat_minor": 2
}
