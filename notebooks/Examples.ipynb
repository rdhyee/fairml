{
 "cells": [
  {
   "cell_type": "markdown",
   "metadata": {},
   "source": [
    "# Example copied and lightly adapted from https://github.com/adebayoj/fairml/blob/master/example.py"
   ]
  },
  {
   "cell_type": "code",
   "execution_count": 1,
   "metadata": {
    "collapsed": true
   },
   "outputs": [],
   "source": [
    "%matplotlib inline"
   ]
  },
  {
   "cell_type": "code",
   "execution_count": 2,
   "metadata": {},
   "outputs": [
    {
     "name": "stderr",
     "output_type": "stream",
     "text": [
      "/Users/raymondyee/anaconda/envs/myenv3/lib/python3.6/site-packages/matplotlib/__init__.py:1405: UserWarning: \n",
      "This call to matplotlib.use() has no effect because the backend has already\n",
      "been chosen; matplotlib.use() must be called *before* pylab, matplotlib.pyplot,\n",
      "or matplotlib.backends is imported for the first time.\n",
      "\n",
      "  warnings.warn(_use_error_msg)\n"
     ]
    },
    {
     "name": "stdout",
     "output_type": "stream",
     "text": [
      "Feature: Two_yr_Recidivism,\t Importance: 0.22893713545042127\n",
      "Feature: Number_of_Priors,\t Importance: 0.3608230719377835\n",
      "Feature: Age_Above_FourtyFive,\t Importance: -0.006804925469863901\n",
      "Feature: Age_Below_TwentyFive,\t Importance: 0.15327284510693454\n",
      "Feature: African_American,\t Importance: 0.23493195074530135\n",
      "Feature: Asian,\t Importance: -0.0003240440699935191\n",
      "Feature: Hispanic,\t Importance: -0.008425145819831496\n",
      "Feature: Native_American,\t Importance: 0.0004860661049902787\n",
      "Feature: Other,\t Importance: -0.004860661049902786\n",
      "Feature: Female,\t Importance: 0.04536616979909268\n",
      "Feature: Misdemeanor,\t Importance: -0.052657161373946854\n"
     ]
    },
    {
     "data": {
      "image/png": "[encoded data removed]",
      "text/plain": [
       "<matplotlib.figure.Figure at 0x10b592908>"
      ]
     },
     "metadata": {},
     "output_type": "display_data"
    }
   ],
   "source": [
    "import matplotlib\n",
    "\n",
    "import numpy as np\n",
    "import matplotlib.pyplot as plt\n",
    "import seaborn as sns\n",
    "\n",
    "import pandas as pd\n",
    "from sklearn.linear_model import LogisticRegression\n",
    "\n",
    "# import specific projection format.\n",
    "from fairml import audit_model\n",
    "from fairml import plot_dependencies\n",
    "\n",
    "# plt.style.use('ggplot')\n",
    "#plt.figure(figsize=(6, 6))\n",
    "\n",
    "# read in propublica data\n",
    "propublica_data = pd.read_csv(\"../doc/example_notebooks/\"\n",
    "                              \"propublica_data_for_fairml.csv\")\n",
    "\n",
    "# quick data processing\n",
    "compas_rating = propublica_data.score_factor.values\n",
    "propublica_data = propublica_data.drop(\"score_factor\", 1)\n",
    "\n",
    "#  quick setup of Logistic regression\n",
    "#  perhaps use a more crazy classifier\n",
    "clf = LogisticRegression(penalty='l2', C=0.01)\n",
    "clf.fit(propublica_data.values, compas_rating)\n",
    "\n",
    "#  call audit model\n",
    "importancies, _ = audit_model(clf.predict, propublica_data)\n",
    "\n",
    "# print feature importance\n",
    "print(importancies)\n",
    "\n",
    "# generate feature dependence plot\n",
    "fig = plot_dependencies(\n",
    "    importancies.median(),\n",
    "    reverse_values=False,\n",
    "    title=\"FairML feature dependence logistic regression model\"\n",
    ")\n",
    "\n",
    "# fig.show()\n",
    "#file_name = \"fairml_propublica_linear_direct.png\"\n",
    "#plt.savefig(file_name, transparent=False, bbox_inches='tight', dpi=250)"
   ]
  },
  {
   "cell_type": "markdown",
   "metadata": {},
   "source": [
    "# non-linear example\n",
    "https://github.com/adebayoj/fairml/blob/master/example_non_linear_models.py\n",
    "\n",
    "**Warning:  Becase the following coe will not likely yield an immediate answer, you will need to turn the following markdown cell to a code cell to run it.**"
   ]
  },
  {
   "cell_type": "markdown",
   "metadata": {},
   "source": [
    "```\n",
    "%cd ..\n",
    "%run example_non_linear_models.py\n",
    "```"
   ]
  },
  {
   "cell_type": "code",
   "execution_count": null,
   "metadata": {
    "collapsed": true
   },
   "outputs": [],
   "source": []
  }
 ],
 "metadata": {
  "kernelspec": {
   "display_name": "Python 3",
   "language": "python",
   "name": "python3"
  },
  "language_info": {
   "codemirror_mode": {
    "name": "ipython",
    "version": 3
   },
   "file_extension": ".py",
   "mimetype": "text/x-python",
   "name": "python",
   "nbconvert_exporter": "python",
   "pygments_lexer": "ipython3",
   "version": "3.6.0"
  }
 },
 "nbformat": 4,
 "nbformat_minor": 2
}
